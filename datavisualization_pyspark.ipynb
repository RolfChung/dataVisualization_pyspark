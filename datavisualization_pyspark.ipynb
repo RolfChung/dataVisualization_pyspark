{
 "cells": [
  {
   "cell_type": "markdown",
   "metadata": {},
   "source": [
    "# Summary\n",
    "\n",
    "<p>\n",
    "The main purpose of this project is to lever the data visualization options of PySpark.\n",
    "Within this, a random forest classifier is applied to the breast cancer data set.\n",
    "PySpark itself does not implement data visualization techniques, but there are currently three major options utilizing the Spark API's.\n",
    "</p>\n",
    "\n",
    "<ul>\n",
    "<li>toPandas()</li>\n",
    "<li>Pyspark_dist_explore</li>\n",
    "<li>HandySpark</li>\n",
    "</ul>\n",
    "\n",
    "<p>\n",
    "Pandas is a widely know analytics package used for purposes like data wrangling\n",
    "and data exploration. In view of PySpark it is interesting to point out that in\n",
    "Pandas data frames are in-memory, single-server data structure whereas Pyspark are\n",
    "based on Resilient Distributed Datasets (RDD's). Those are distributed over\n",
    "the RAM or memory of many machines (possible remotely) in a (cloud) cluster.\n",
    "By transforming a Pyspark RDD into a Pandas data frame all the analytical operations\n",
    "of pandas are available and so are the data visualization capabilities of\n",
    "pandas, matplotlib and seaborn.\n",
    "</p>\n",
    "\n",
    "<p>\n",
    "HandySpark is \"Bringing pandas-like capabilities to Spark data frames!\" in Pandas.\n",
    "It does this in PySpark and keeps the data frames distributed. HandySpark offers\n",
    "a variety of functions for data cleaning and data visualization. It also\n",
    "makes Pandas accessible by leveraging the Pandas object of the handy data frame.\n",
    "</p>\n",
    "\n",
    "<a href=\" https://github.com/dvgodoy/handyspark\" target=\"_blank\">Github:\n",
    "HandySpark - bringing pandas-like capabilities to Spark dataframes</a>\n",
    "\n",
    "<p>\n",
    "Pyspark_dist_explore allows fast views into DataFrames.\n",
    "Currently three functions are given: hist(), distplot() and pandas_histogram()\n",
    "</p>\n",
    "\n",
    "<p>\n",
    "Several data sets are used in several formats like csv, json and txt.\n",
    "The data sources used are stored locally.\n",
    "The functions and methods applied here include SQL-queries and\n",
    "SQL-calculations and domain specific PySpark operations\n",
    "like select, filter, and collect.\n",
    "</p>\n",
    "\n",
    "<p>\n",
    "<b>Spark architecture</b>\n",
    "</p>\n",
    "\n",
    "<img src=\"cluster-overview.png\" alt=\"Smiley face\" height=\"500\" width=\"500\"> \n"
   ]
  },
  {
   "cell_type": "markdown",
   "metadata": {},
   "source": [
    "# Import packages"
   ]
  },
  {
   "cell_type": "code",
   "execution_count": 1165,
   "metadata": {},
   "outputs": [],
   "source": [
    "from pyspark.sql.types \\\n",
    "import StructType, StructField, IntegerType, StringType\n",
    "\n",
    "import numpy as np\n",
    "import pandas as pd\n",
    "import math\n",
    "import random\n",
    "import pathlib\n",
    "import matplotlib.pyplot as plt\n",
    "%matplotlib inline\n",
    "import seaborn as sns\n",
    "from IPython.display import display, HTML, display_html \n",
    "#usefull to display wide tables\n",
    "import inspect\n",
    "\n",
    "\n",
    "\n",
    "from pyspark.sql import DataFrame\n",
    "from pyspark.rdd import RDD\n",
    "from pyspark.sql.types import StructType, StructField, IntegerType\n",
    "from pyspark.sql.functions import lower, col\n",
    "from pyspark.sql import SparkSession\n",
    "from pyspark.rdd import RDD\n",
    "from pyspark.sql.functions import mean, bround, round, stddev , col, avg\n",
    "from pyspark.sql.types import IntegerType, FloatType\n",
    "import pyspark.sql.functions as F\n",
    "from pyspark.sql.functions import isnan\n",
    "from pyspark.ml.clustering import KMeans\n",
    "from pyspark.ml.feature import VectorAssembler\n",
    "from pyspark.sql.functions import isnan, when, count, col\n",
    "import pyspark.sql.functions as func\n",
    "\n",
    "# machine learning\n",
    "from pyspark.ml.feature import VectorAssembler\n",
    "from pyspark.ml.classification import RandomForestClassifier\n",
    "from pyspark.ml.pipeline import Pipeline\n",
    "from pyspark.ml.evaluation import BinaryClassificationEvaluator\n",
    "\n",
    "from pyspark.sql import Row\n",
    "\n",
    "# data visualization\n",
    "\n",
    "from pyspark_dist_explore import Histogram, hist, distplot, \\\n",
    "pandas_histogram\n",
    "# PySpark Dataframe Distribution Explorer\n",
    "# https://github.com/Bergvca/pyspark_dist_explore\n",
    "\n",
    "from handyspark import *\n"
   ]
  },
  {
   "cell_type": "markdown",
   "metadata": {},
   "source": [
    "# Inspect working directory"
   ]
  },
  {
   "cell_type": "code",
   "execution_count": 1166,
   "metadata": {},
   "outputs": [],
   "source": [
    "cwd_1=os.getcwd()\n",
    "# print(cwd_1)\n",
    "\n",
    "dirname = os.path.dirname(cwd_1) \n",
    "# print(dirname)\n",
    "\n",
    "path_cwd = pathlib.Path.cwd()\n",
    "# print(path_cwd)\n",
    "\n",
    "path_home = pathlib.Path.home()\n",
    "# print(path_home)\n"
   ]
  },
  {
   "cell_type": "markdown",
   "metadata": {},
   "source": [
    "# Spark set up"
   ]
  },
  {
   "cell_type": "markdown",
   "metadata": {},
   "source": [
    "## Create Spark Session\n",
    "\n",
    "<p>\n",
    "Spark Session is a single point of entry to interact with Spark data frames and other data structures. Spark session accessible in the Pyspark\n",
    "shell with \"spark\" can create DataFrames, apply queries, and register object into the Spark cluster. Spark Session is a more easy way to communicate with Spark other than in the past when it was necessary to\n",
    "set up SparkConf and SparkContext.\n",
    "</p>\n",
    "\n",
    "<p>\n",
    "According to Databricks \"a SparkSession is beyond a time-bounded interaction, SparkSession provides a single point of entry to interact with underlying Spark functionality and allows programming Spark with DataFrame and Dataset APIs. Most importantly, it curbs the number of concepts and constructs a developer has to juggle while interacting with Spark.\"\n",
    "</p> \n",
    "<a href=\"https://databricks.com/blog/2016/08/15/how-to-use-sparksession-in-apache-spark-2-0.html\" target=\"_blank\">Class SparkSession</a> \n",
    "\n"
   ]
  },
  {
   "cell_type": "code",
   "execution_count": 1167,
   "metadata": {},
   "outputs": [
    {
     "name": "stdout",
     "output_type": "stream",
     "text": [
      "<pyspark.sql.session.SparkSession object at 0x000002731638D748>\n",
      "<class 'pyspark.sql.session.SparkSession'>\n"
     ]
    }
   ],
   "source": [
    "# SparkSession.builder.getOrCreate()\n",
    "spark = SparkSession.builder.getOrCreate()\n",
    "print(spark)\n",
    "print(type(spark))"
   ]
  },
  {
   "cell_type": "code",
   "execution_count": 1168,
   "metadata": {},
   "outputs": [
    {
     "data": {
      "text/plain": [
       "[Table(name='cancer_table', database=None, description=None, tableType='TEMPORARY', isTemporary=True),\n",
       " Table(name='color', database=None, description=None, tableType='TEMPORARY', isTemporary=True),\n",
       " Table(name='highway_table', database=None, description=None, tableType='TEMPORARY', isTemporary=True),\n",
       " Table(name='iris_tbl', database=None, description=None, tableType='TEMPORARY', isTemporary=True),\n",
       " Table(name='prices', database=None, description=None, tableType='TEMPORARY', isTemporary=True)]"
      ]
     },
     "execution_count": 1168,
     "metadata": {},
     "output_type": "execute_result"
    }
   ],
   "source": [
    "# Access to the current metadata catalog of relational entities, \n",
    "# e.g. database(s), tables, functions, \n",
    "# table columns, and temporary views.\n",
    "\n",
    "spark.catalog.listTables()\n",
    "\n",
    "# At this point there are not any tables in the catalog\n",
    "# https://jaceklaskowski.gitbooks.io/mastering-spark-sql/spark-sql-SparkSession.html"
   ]
  },
  {
   "cell_type": "markdown",
   "metadata": {},
   "source": [
    "## Inspect spark context"
   ]
  },
  {
   "cell_type": "code",
   "execution_count": 1169,
   "metadata": {},
   "outputs": [
    {
     "name": "stdout",
     "output_type": "stream",
     "text": [
      "<pyspark.sql.context.SQLContext object at 0x0000027316395548>\n",
      "<SparkContext master=local[*] appName=PySparkShell>\n",
      "3.0.0-preview\n",
      "local[*]\n",
      "None\n",
      "<bound method SparkContext.sparkUser of <SparkContext master=local[*] appName=PySparkShell>>\n",
      "PySparkShell\n",
      "local-1579167966780\n",
      "4\n",
      "2\n"
     ]
    }
   ],
   "source": [
    "print(sqlContext)\n",
    "print(sc)\n",
    "print(sc.version)\n",
    "print(sc.master)\n",
    "print(sc.sparkHome)\n",
    "print(sc.sparkUser)\n",
    "print(sc.appName)\n",
    "print(sc.applicationId)\n",
    "print(sc.defaultParallelism)\n",
    "print(sc.defaultMinPartitions)"
   ]
  },
  {
   "cell_type": "markdown",
   "metadata": {},
   "source": [
    "# Creating RDDs, data frames, SQL-tables from list of tuples\n"
   ]
  },
  {
   "cell_type": "markdown",
   "metadata": {},
   "source": [
    "## Example 1: prices"
   ]
  },
  {
   "cell_type": "code",
   "execution_count": 1170,
   "metadata": {},
   "outputs": [],
   "source": [
    "# Create an example list of tuples\n",
    "price_list = [('car',5000), ('bus',50000),('bicycle',100),\n",
    "              ('airplane',900000), ('motor bike', 2000),\n",
    "              ('shoes', 50), ('train', 2000000)]"
   ]
  },
  {
   "cell_type": "code",
   "execution_count": 1171,
   "metadata": {},
   "outputs": [],
   "source": [
    "# Create an RDD from a list\n",
    "rdd_price = sc.parallelize(price_list)"
   ]
  },
  {
   "cell_type": "code",
   "execution_count": 1172,
   "metadata": {},
   "outputs": [
    {
     "name": "stdout",
     "output_type": "stream",
     "text": [
      "DataFrame[vehicle: string, price: bigint]\n",
      "<class 'pyspark.sql.dataframe.DataFrame'>\n",
      "+----------+-------+\n",
      "|   vehicle|  price|\n",
      "+----------+-------+\n",
      "|       car|   5000|\n",
      "|       bus|  50000|\n",
      "|   bicycle|    100|\n",
      "|  airplane| 900000|\n",
      "|motor bike|   2000|\n",
      "|     shoes|     50|\n",
      "|     train|2000000|\n",
      "+----------+-------+\n",
      "\n"
     ]
    }
   ],
   "source": [
    "# Create a data frame from an RDD\n",
    "df_price = spark.createDataFrame(rdd_price, schema=[\"vehicle\", \"price\"])\n",
    "\n",
    "# price\n",
    "print(df_price)\n",
    "print(type(df_price))\n",
    "df_price.show()"
   ]
  },
  {
   "cell_type": "code",
   "execution_count": 1173,
   "metadata": {},
   "outputs": [
    {
     "name": "stdout",
     "output_type": "stream",
     "text": [
      "root\n",
      " |-- vehicle: string (nullable = true)\n",
      " |-- price: long (nullable = true)\n",
      "\n"
     ]
    }
   ],
   "source": [
    "df_price.printSchema()"
   ]
  },
  {
   "cell_type": "markdown",
   "metadata": {},
   "source": [
    "### spark.sql interface\n",
    "\n",
    "Creating a temporary table from a data frame allows to use SQL\n",
    "on the data. A temporary table is needed because SQL-queries cannot applied directly to a data frame. Spark provides with spark.sql an API\n",
    "that is able to process SQL-queries.The spark.sql query returns a data frame. Using domain specific Pyspark methods like collect or show are working on this.This allows to mix up SQL and Pyspark data frame methods together. If familiarity with the SQL-language this is a great way to easily extract (structured) data."
   ]
  },
  {
   "cell_type": "code",
   "execution_count": 1174,
   "metadata": {},
   "outputs": [],
   "source": [
    "# add a table to the cataloge of the spark session\n",
    "df_price.createOrReplaceTempView('prices')"
   ]
  },
  {
   "cell_type": "code",
   "execution_count": 1175,
   "metadata": {},
   "outputs": [
    {
     "name": "stdout",
     "output_type": "stream",
     "text": [
      "+----------+-------+\n",
      "|   vehicle|  price|\n",
      "+----------+-------+\n",
      "|       car|   5000|\n",
      "|       bus|  50000|\n",
      "|   bicycle|    100|\n",
      "|  airplane| 900000|\n",
      "|motor bike|   2000|\n",
      "|     shoes|     50|\n",
      "|     train|2000000|\n",
      "+----------+-------+\n",
      "\n"
     ]
    }
   ],
   "source": [
    "# the table can now be queried with SQL-syntax\n",
    "# query the table\n",
    "query_2 = \"FROM prices SELECT *\"\n",
    "table_prices = spark.sql(query_2)\n",
    "table_prices.show()"
   ]
  },
  {
   "cell_type": "markdown",
   "metadata": {},
   "source": [
    "## Data visualization with toPandas\n",
    "\n",
    "transforms Pyspark data frames into Pandas data frames.\n",
    "From there on the many options of Pandas and \n",
    "other packages like matplotlib or seaborn are available.\n"
   ]
  },
  {
   "cell_type": "code",
   "execution_count": 1176,
   "metadata": {},
   "outputs": [
    {
     "data": {
      "image/png": "[encoded data removed]",
      "text/plain": [
       "<Figure size 720x288 with 2 Axes>"
      ]
     },
     "metadata": {
      "needs_background": "light"
     },
     "output_type": "display_data"
    }
   ],
   "source": [
    "table_prices_pd = table_prices.toPandas()\n",
    "\n",
    "\n",
    "fig, axs = plt.subplots(1,2, tight_layout=True, figsize=(10,4))\n",
    "\n",
    "table_prices_pd.sort_values(by='price').\\\n",
    "plot.bar(x='vehicle', edgecolor='black',\n",
    "         linewidth=3, title=\"Vehicle prices absolute\",\n",
    "         logy=False, color=['olivedrab'],\n",
    "         legend=False, ax=axs[0])\n",
    "\n",
    "\n",
    "table_prices_pd.sort_values(by='price').\\\n",
    "plot.bar(x='vehicle', edgecolor='black',\n",
    "         linewidth=3, title=\"Vehicle log prices\",\n",
    "         logy=True, color='skyblue',\n",
    "         legend=False, ax=axs[1])\n",
    "\n",
    "\n",
    "plt.show()"
   ]
  },
  {
   "cell_type": "code",
   "execution_count": 1177,
   "metadata": {},
   "outputs": [
    {
     "name": "stdout",
     "output_type": "stream",
     "text": [
      "+----------+\n",
      "|mean_price|\n",
      "+----------+\n",
      "|  422450.0|\n",
      "+----------+\n",
      "\n"
     ]
    }
   ],
   "source": [
    "# calculate the mean price\n",
    "query_3 = \"FROM prices SELECT AVG(price) AS mean_price\"\n",
    "spark.sql(query_3).show()"
   ]
  },
  {
   "cell_type": "markdown",
   "metadata": {},
   "source": [
    "## Example 2: color codes"
   ]
  },
  {
   "cell_type": "code",
   "execution_count": 1178,
   "metadata": {},
   "outputs": [
    {
     "data": {
      "text/plain": [
       "dict_items([('aliceblue', '#f0f8ff'), ('antiquewhite', '#faebd7'), ('aqua', '#00ffff'), ('aquamarine', '#7fffd4'), ('azure', '#f0ffff'), ('beige', '#f5f5dc'), ('bisque', '#ffe4c4'), ('black', '#000000'), ('blanchedalmond', '#ffebcd'), ('blue', '#0000ff'), ('blueviolet', '#8a2be2'), ('brown', '#a52a2a')])"
      ]
     },
     "execution_count": 1178,
     "metadata": {},
     "output_type": "execute_result"
    }
   ],
   "source": [
    "# create a dictionary\n",
    "colors_1 = \\\n",
    "  {\n",
    "  \"aliceblue\": \"#f0f8ff\",\n",
    "  \"antiquewhite\": \"#faebd7\",\n",
    "  \"aqua\": \"#00ffff\",\n",
    "  \"aquamarine\": \"#7fffd4\",\n",
    "  \"azure\": \"#f0ffff\",\n",
    "  \"beige\": \"#f5f5dc\",\n",
    "  \"bisque\": \"#ffe4c4\",\n",
    "  \"black\": \"#000000\",\n",
    "  \"blanchedalmond\": \"#ffebcd\",\n",
    "  \"blue\": \"#0000ff\",\n",
    "  \"blueviolet\": \"#8a2be2\",\n",
    "  \"brown\": \"#a52a2a\"\n",
    "   }\n",
    "\n",
    "colors_1.items()\n"
   ]
  },
  {
   "cell_type": "code",
   "execution_count": 1179,
   "metadata": {},
   "outputs": [
    {
     "name": "stdout",
     "output_type": "stream",
     "text": [
      "[('aliceblue', '#f0f8ff'), ('antiquewhite', '#faebd7'), ('aqua', '#00ffff'), ('aquamarine', '#7fffd4'), ('azure', '#f0ffff'), ('beige', '#f5f5dc'), ('bisque', '#ffe4c4'), ('black', '#000000'), ('blanchedalmond', '#ffebcd'), ('blue', '#0000ff'), ('blueviolet', '#8a2be2'), ('brown', '#a52a2a')]\n",
      "<class 'list'>\n"
     ]
    }
   ],
   "source": [
    "# turn the dictionary into a tuple\n",
    "# iteritems is depreciated in Python 3.0\n",
    "\n",
    "color_tuples = [(k, v) for k,v in colors_1.items()]\n",
    "\n",
    "print(color_tuples)\n",
    "print(type(color_tuples))"
   ]
  },
  {
   "cell_type": "code",
   "execution_count": 1180,
   "metadata": {},
   "outputs": [],
   "source": [
    "# create schema \n",
    "# a schema controls the data frame and optimizes queries\n",
    "\n",
    "color_schema = \\\n",
    "StructType([\n",
    "    StructField(\"color\", StringType(), True),\n",
    "    StructField(\"color_code\", StringType(), True)])\n"
   ]
  },
  {
   "cell_type": "code",
   "execution_count": 1181,
   "metadata": {},
   "outputs": [
    {
     "name": "stdout",
     "output_type": "stream",
     "text": [
      "DataFrame[color: string, color_code: string]\n",
      "root\n",
      " |-- color: string (nullable = true)\n",
      " |-- color_code: string (nullable = true)\n",
      "\n",
      "None\n"
     ]
    }
   ],
   "source": [
    "color_rdd = sc.parallelize(color_tuples)\n",
    "color_df = spark.createDataFrame(color_rdd , schema=color_schema)\n",
    "\n",
    "print(color_df)\n",
    "print(color_df.printSchema())"
   ]
  },
  {
   "cell_type": "code",
   "execution_count": 1182,
   "metadata": {},
   "outputs": [
    {
     "name": "stdout",
     "output_type": "stream",
     "text": [
      "+--------------+----------+\n",
      "|         color|color_code|\n",
      "+--------------+----------+\n",
      "|     aliceblue|   #f0f8ff|\n",
      "|  antiquewhite|   #faebd7|\n",
      "|          aqua|   #00ffff|\n",
      "|    aquamarine|   #7fffd4|\n",
      "|         azure|   #f0ffff|\n",
      "|         beige|   #f5f5dc|\n",
      "|        bisque|   #ffe4c4|\n",
      "|         black|   #000000|\n",
      "|blanchedalmond|   #ffebcd|\n",
      "|          blue|   #0000ff|\n",
      "|    blueviolet|   #8a2be2|\n",
      "|         brown|   #a52a2a|\n",
      "+--------------+----------+\n",
      "\n"
     ]
    }
   ],
   "source": [
    "color_df.show()"
   ]
  },
  {
   "cell_type": "code",
   "execution_count": 1183,
   "metadata": {},
   "outputs": [],
   "source": [
    "color_df.createOrReplaceTempView('color')"
   ]
  },
  {
   "cell_type": "code",
   "execution_count": 1184,
   "metadata": {},
   "outputs": [
    {
     "name": "stdout",
     "output_type": "stream",
     "text": [
      "<class 'pyspark.sql.dataframe.DataFrame'>\n",
      "+--------------+----------+\n",
      "|         color|color_code|\n",
      "+--------------+----------+\n",
      "|     aliceblue|   #f0f8ff|\n",
      "|  antiquewhite|   #faebd7|\n",
      "|          aqua|   #00ffff|\n",
      "|    aquamarine|   #7fffd4|\n",
      "|         azure|   #f0ffff|\n",
      "|         beige|   #f5f5dc|\n",
      "|        bisque|   #ffe4c4|\n",
      "|         black|   #000000|\n",
      "|blanchedalmond|   #ffebcd|\n",
      "|          blue|   #0000ff|\n",
      "|    blueviolet|   #8a2be2|\n",
      "|         brown|   #a52a2a|\n",
      "+--------------+----------+\n",
      "\n"
     ]
    }
   ],
   "source": [
    "query_1 = \"FROM color SELECT *\"\n",
    "\n",
    "color_1 = spark.sql(query_1)\n",
    "\n",
    "print(type(color_1))\n",
    "color_1.show()"
   ]
  },
  {
   "cell_type": "markdown",
   "metadata": {},
   "source": [
    "Are the tables in the catalog?"
   ]
  },
  {
   "cell_type": "code",
   "execution_count": 1185,
   "metadata": {},
   "outputs": [
    {
     "data": {
      "text/plain": [
       "[Table(name='cancer_table', database=None, description=None, tableType='TEMPORARY', isTemporary=True),\n",
       " Table(name='color', database=None, description=None, tableType='TEMPORARY', isTemporary=True),\n",
       " Table(name='highway_table', database=None, description=None, tableType='TEMPORARY', isTemporary=True),\n",
       " Table(name='iris_tbl', database=None, description=None, tableType='TEMPORARY', isTemporary=True),\n",
       " Table(name='prices', database=None, description=None, tableType='TEMPORARY', isTemporary=True)]"
      ]
     },
     "execution_count": 1185,
     "metadata": {},
     "output_type": "execute_result"
    }
   ],
   "source": [
    "spark.catalog.listTables()\n",
    "# Yes"
   ]
  },
  {
   "cell_type": "markdown",
   "metadata": {},
   "source": [
    "# Loading data into data frames"
   ]
  },
  {
   "cell_type": "markdown",
   "metadata": {},
   "source": [
    "## Loading a json"
   ]
  },
  {
   "cell_type": "code",
   "execution_count": 1186,
   "metadata": {},
   "outputs": [
    {
     "name": "stdout",
     "output_type": "stream",
     "text": [
      "<class 'pyspark.sql.dataframe.DataFrame'>\n",
      "\n",
      "+---------------+-----------+----------+-----------+----------+-------+\n",
      "|_corrupt_record|petalLength|petalWidth|sepalLength|sepalWidth|species|\n",
      "+---------------+-----------+----------+-----------+----------+-------+\n",
      "|              [|       null|      null|       null|      null|   null|\n",
      "|           null|        1.4|       0.2|        5.1|       3.5| setosa|\n",
      "|           null|        1.4|       0.2|        4.9|       3.0| setosa|\n",
      "|           null|        1.3|       0.2|        4.7|       3.2| setosa|\n",
      "+---------------+-----------+----------+-----------+----------+-------+\n",
      "only showing top 4 rows\n",
      "\n",
      "None\n",
      "[Row(_corrupt_record='[', petalLength=None, petalWidth=None, sepalLength=None, sepalWidth=None, species=None)]\n",
      "\n",
      "152\n",
      "6\n",
      "['_corrupt_record', 'petalLength', 'petalWidth', 'sepalLength', 'sepalWidth', 'species']\n"
     ]
    }
   ],
   "source": [
    "# read in the json version of the iris data set\n",
    "iris = spark.read.format('json').load(\"iris.json\")\n",
    "\n",
    "# inspect the object\n",
    "print(type(iris))\n",
    "print(\"\")\n",
    "\n",
    "print(iris.show(4))\n",
    "\n",
    "# show first row\n",
    "print(iris.take(1))\n",
    "print(\"\")\n",
    "\n",
    "# shape\n",
    "print(iris.count())\n",
    "print(len(iris.columns))\n",
    "print(iris.columns)"
   ]
  },
  {
   "cell_type": "markdown",
   "metadata": {},
   "source": [
    "Deleting the corrupt column."
   ]
  },
  {
   "cell_type": "code",
   "execution_count": 1187,
   "metadata": {},
   "outputs": [
    {
     "name": "stdout",
     "output_type": "stream",
     "text": [
      "['petalLength', 'petalWidth', 'sepalLength', 'sepalWidth', 'species']\n"
     ]
    }
   ],
   "source": [
    "iris_2 = iris.drop('_corrupt_record')\n",
    "print(iris_2.columns)"
   ]
  },
  {
   "cell_type": "markdown",
   "metadata": {},
   "source": [
    "Are there null-values?"
   ]
  },
  {
   "cell_type": "code",
   "execution_count": 1188,
   "metadata": {},
   "outputs": [
    {
     "name": "stdout",
     "output_type": "stream",
     "text": [
      "+-----------+----------+-----------+----------+-------+\n",
      "|petalLength|petalWidth|sepalLength|sepalWidth|species|\n",
      "+-----------+----------+-----------+----------+-------+\n",
      "|          2|         2|          2|         2|      2|\n",
      "+-----------+----------+-----------+----------+-------+\n",
      "\n"
     ]
    }
   ],
   "source": [
    "# isNull works on columns of data frames and not data frames\n",
    "iris_2.select([count(when(isnan(c) | col(c).isNull(), c)).\n",
    "               alias(c) for c in iris_2.columns]).show()"
   ]
  },
  {
   "cell_type": "markdown",
   "metadata": {},
   "source": [
    "Drop null values."
   ]
  },
  {
   "cell_type": "code",
   "execution_count": 1189,
   "metadata": {},
   "outputs": [],
   "source": [
    "iris_3 = iris_2.na.drop()"
   ]
  },
  {
   "cell_type": "code",
   "execution_count": 1190,
   "metadata": {},
   "outputs": [
    {
     "name": "stdout",
     "output_type": "stream",
     "text": [
      "+-----------+----------+-----------+----------+-------+\n",
      "|petalLength|petalWidth|sepalLength|sepalWidth|species|\n",
      "+-----------+----------+-----------+----------+-------+\n",
      "|          0|         0|          0|         0|      0|\n",
      "+-----------+----------+-----------+----------+-------+\n",
      "\n"
     ]
    }
   ],
   "source": [
    "iris_3.select([count(when(isnan(c) | col(c).isNull(), c)).\n",
    "               alias(c) for c in iris_2.columns]).show()"
   ]
  },
  {
   "cell_type": "code",
   "execution_count": 1191,
   "metadata": {},
   "outputs": [
    {
     "name": "stdout",
     "output_type": "stream",
     "text": [
      "152\n",
      "150\n"
     ]
    }
   ],
   "source": [
    "print(iris_2.count())\n",
    "print(iris_3.count())\n",
    "# two rows with null values were removed"
   ]
  },
  {
   "cell_type": "code",
   "execution_count": 1192,
   "metadata": {},
   "outputs": [
    {
     "name": "stdout",
     "output_type": "stream",
     "text": [
      "root\n",
      " |-- petalLength: double (nullable = true)\n",
      " |-- petalWidth: double (nullable = true)\n",
      " |-- sepalLength: double (nullable = true)\n",
      " |-- sepalWidth: double (nullable = true)\n",
      " |-- species: string (nullable = true)\n",
      "\n"
     ]
    }
   ],
   "source": [
    "iris_3.printSchema()"
   ]
  },
  {
   "cell_type": "code",
   "execution_count": 1193,
   "metadata": {},
   "outputs": [
    {
     "name": "stdout",
     "output_type": "stream",
     "text": [
      "+-------+------+------+\n",
      "|summary|petall|sepall|\n",
      "+-------+------+------+\n",
      "|  count| 150.0| 150.0|\n",
      "|   mean|  3.76|  5.84|\n",
      "| stddev|  1.77|  0.83|\n",
      "|    min|   1.0|   4.3|\n",
      "|    max|   6.9|   7.9|\n",
      "+-------+------+------+\n",
      "\n"
     ]
    }
   ],
   "source": [
    "desc1 = iris_3.select('petalLength', \"sepalLength\").describe()\n",
    "desc1.select('summary', round(desc1[\"petalLength\"],2).alias('petall'), \n",
    "              round(desc1[\"sepalLength\"],2).alias('sepall')).show()"
   ]
  },
  {
   "cell_type": "code",
   "execution_count": 1194,
   "metadata": {},
   "outputs": [
    {
     "name": "stdout",
     "output_type": "stream",
     "text": [
      "Index(['petalLength', 'petalWidth', 'sepalLength', 'sepalWidth', 'species'], dtype='object')\n"
     ]
    },
    {
     "data": {
      "image/png": "[encoded data removed]",
      "text/plain": [
       "<Figure size 432x288 with 4 Axes>"
      ]
     },
     "metadata": {
      "needs_background": "light"
     },
     "output_type": "display_data"
    }
   ],
   "source": [
    "# to Pandas for visualization\n",
    "iris2_pd = iris_2.toPandas()\n",
    "print(iris2_pd.columns)\n",
    "\n",
    "# plot histograms of variables\n",
    "iris3_pd = iris2_pd.drop('species', axis=1)\n",
    "iris3_pd.hist(color='green', edgecolor=\"darkred\", linewidth=3)\n",
    "plt.show()"
   ]
  },
  {
   "cell_type": "code",
   "execution_count": 1195,
   "metadata": {},
   "outputs": [
    {
     "name": "stdout",
     "output_type": "stream",
     "text": [
      "<class 'pyspark.sql.dataframe.DataFrame'>\n",
      "+----------+------------------+-----------------+\n",
      "|   species|  avg(petalLength)| avg(sepalLength)|\n",
      "+----------+------------------+-----------------+\n",
      "|    setosa|1.4620000000000002|5.005999999999999|\n",
      "|versicolor|              4.26|            5.936|\n",
      "| virginica|             5.552|6.587999999999998|\n",
      "+----------+------------------+-----------------+\n",
      "\n",
      "None\n"
     ]
    }
   ],
   "source": [
    "# operation select as domain specific expression\n",
    "# is needed to select a column\n",
    "# Python subsetting does not work on pyspark data frames\n",
    "group1 = \\\n",
    "iris_3.select('species', 'petalLength', \"sepalLength\").\\\n",
    "groupby('species').avg()\n",
    "\n",
    "print(type(group1))\n",
    "print(group1.show())"
   ]
  },
  {
   "cell_type": "code",
   "execution_count": 1196,
   "metadata": {},
   "outputs": [
    {
     "data": {
      "image/png": "[encoded data removed]",
      "text/plain": [
       "<Figure size 720x360 with 1 Axes>"
      ]
     },
     "metadata": {
      "needs_background": "light"
     },
     "output_type": "display_data"
    }
   ],
   "source": [
    "group1_pd=group1.toPandas()\n",
    "group1_pd.plot.bar(x='species', edgecolor='black', linewidth=3,\n",
    "                   figsize=(10,5), \n",
    "                   title=\"Average length by species\",\n",
    "                   color=['red', 'green'])\n",
    "plt.show()\n",
    "# sepal length is on average greater"
   ]
  },
  {
   "cell_type": "code",
   "execution_count": 1197,
   "metadata": {},
   "outputs": [
    {
     "name": "stdout",
     "output_type": "stream",
     "text": [
      "+-----------+----------+-----------+----------+---------+\n",
      "|petalLength|petalWidth|sepalLength|sepalWidth|  species|\n",
      "+-----------+----------+-----------+----------+---------+\n",
      "|        6.0|       2.5|        6.3|       3.3|virginica|\n",
      "|        5.1|       1.9|        5.8|       2.7|virginica|\n",
      "|        5.9|       2.1|        7.1|       3.0|virginica|\n",
      "|        5.6|       1.8|        6.3|       2.9|virginica|\n",
      "|        5.8|       2.2|        6.5|       3.0|virginica|\n",
      "+-----------+----------+-----------+----------+---------+\n",
      "only showing top 5 rows\n",
      "\n",
      "None\n",
      "50\n"
     ]
    }
   ],
   "source": [
    "# Domain specific pyspark language: filter\n",
    "virgin1 = iris_2.filter(iris_2.species == 'virginica')\n",
    "print(virgin1.show(5))\n",
    "print(virgin1.count())"
   ]
  },
  {
   "cell_type": "markdown",
   "metadata": {},
   "source": [
    "## Data visualization with Pyspark_dist_explore\n",
    "\n",
    "<p>\n",
    "It is a data visualization package native to Pyspark based on matplotlib. It is\n",
    "installed here on Pyspark with \"pip install pyspark_dist_explore\". \n",
    "There are three functions to create graphs like histograms or displots. \n",
    "Thanks to Bergvca / pyspark_dist_explore. \n",
    "</p> \n",
    "\n",
    "\n",
    "<a href=\"https://github.com/Bergvca/pyspark_dist_explore\" \n",
    "target=\"_blank\">Github</a> \n",
    "\n"
   ]
  },
  {
   "cell_type": "code",
   "execution_count": 1198,
   "metadata": {},
   "outputs": [
    {
     "data": {
      "image/png": "[encoded data removed]",
      "text/plain": [
       "<Figure size 1080x720 with 4 Axes>"
      ]
     },
     "metadata": {
      "needs_background": "light"
     },
     "output_type": "display_data"
    }
   ],
   "source": [
    "fig, axes = plt.subplots(nrows=2, ncols=2)\n",
    "fig.set_size_inches(15, 10)\n",
    "plt.suptitle('Little dashboard of length')\n",
    "\n",
    "# creating data series by selecting a variable from df\n",
    "petalen = virgin1.select('petalLength')\n",
    "sepalen = virgin1.select('sepalLength')\n",
    "\n",
    "\n",
    "# other than in matplotlib the Pyspark_dist_explore package needs\n",
    "# an axes argument, otherwise the function will not work!\n",
    "hist(axes[0, 0], petalen, color=\"red\", \n",
    "     edgecolor=\"black\", linewidth=5)\n",
    "# some matplotlib arguments like edgecolor are working\n",
    "axes[0,0].set_title('histogram of petal length')\n",
    "axes[0,0].set_xlabel('length')\n",
    "\n",
    "distplot(axes[0,1], petalen, color=\"gold\", linewidth=5,\n",
    "         edgecolor='black')\n",
    "axes[0,1].set_title('distribution of petal length')\n",
    "axes[0,1].set_xlabel('length')\n",
    "axes[0,1].set_yticks([0, 0.5, 1], minor=False)\n",
    "\n",
    "hist(axes[1,0], sepalen, color=\"lightgreen\", edgecolor='black',\n",
    "     linewidth=5)\n",
    "axes[1,0].set_title('histogram of sepal length')\n",
    "axes[1,0].set_xlabel('length')\n",
    "\n",
    "distplot(axes[1,1], sepalen, color=\"brown\", edgecolor=\"red\", linewidth=5)\n",
    "axes[1,1].set_title('distribution of sepal length')\n",
    "axes[1,1].set_xlabel('length')\n",
    "axes[1,1].set_yticks([0, 0.5, 1], minor=False)\n",
    "\n",
    "plt.show()"
   ]
  },
  {
   "cell_type": "markdown",
   "metadata": {},
   "source": [
    "#### spark.sql"
   ]
  },
  {
   "cell_type": "code",
   "execution_count": 1199,
   "metadata": {},
   "outputs": [
    {
     "name": "stdout",
     "output_type": "stream",
     "text": [
      "+-----------+----------+-----------+----------+---------+\n",
      "|petalLength|petalWidth|sepalLength|sepalWidth|  species|\n",
      "+-----------+----------+-----------+----------+---------+\n",
      "|        6.0|       2.5|        6.3|       3.3|virginica|\n",
      "|        5.1|       1.9|        5.8|       2.7|virginica|\n",
      "|        5.9|       2.1|        7.1|       3.0|virginica|\n",
      "|        5.6|       1.8|        6.3|       2.9|virginica|\n",
      "|        5.8|       2.2|        6.5|       3.0|virginica|\n",
      "+-----------+----------+-----------+----------+---------+\n",
      "only showing top 5 rows\n",
      "\n",
      "None\n",
      "50\n"
     ]
    }
   ],
   "source": [
    "# createOrReplaceTempView('color')\n",
    "# first create a temporary table\n",
    "iris_2.createOrReplaceTempView('iris_tbl')\n",
    "\n",
    "# sql.spark API\n",
    "query_virgin = 'SELECT  *  FROM iris_tbl WHERE species == \"virginica\"'\n",
    "virgin2 = spark.sql(query_virgin)\n",
    "\n",
    "print(virgin2.show(5))\n",
    "print(virgin2.count())"
   ]
  },
  {
   "cell_type": "code",
   "execution_count": 1200,
   "metadata": {},
   "outputs": [
    {
     "name": "stdout",
     "output_type": "stream",
     "text": [
      "Count with DSL is 50 and the same as count with SQL of 50.\n"
     ]
    }
   ],
   "source": [
    "print(\"Count with DSL is {} and the same as count with SQL of {}.\"\\\n",
    "      .format(virgin1.count(), virgin2.count()))"
   ]
  },
  {
   "cell_type": "code",
   "execution_count": 1201,
   "metadata": {},
   "outputs": [
    {
     "name": "stdout",
     "output_type": "stream",
     "text": [
      "+---------------+----------------+----------------+---------------+\n",
      "|max(sepalWidth)|max(sepalLength)|max(petalLength)|max(petalWidth)|\n",
      "+---------------+----------------+----------------+---------------+\n",
      "|            4.4|             7.9|             6.9|            2.5|\n",
      "+---------------+----------------+----------------+---------------+\n",
      "\n"
     ]
    }
   ],
   "source": [
    "# Maximun length\n",
    "query_virgin2 = \\\n",
    "'SELECT MAX(sepalWidth), MAX(sepalLength), MAX(petalLength),\\\n",
    "MAX(petalWidth) FROM iris_tbl '\n",
    "\n",
    "virgin2_mean = spark.sql(query_virgin2)\n",
    "virgin2_mean.show(5)"
   ]
  },
  {
   "cell_type": "markdown",
   "metadata": {},
   "source": [
    "## Loading a text file with csv"
   ]
  },
  {
   "cell_type": "code",
   "execution_count": 1202,
   "metadata": {},
   "outputs": [
    {
     "name": "stdout",
     "output_type": "stream",
     "text": [
      "<class 'pyspark.sql.dataframe.DataFrame'>\n",
      "['_c0']\n",
      "9269\n",
      "\n",
      "[Row(_c0=' ON SUNSET HIGHWAYS ***'), Row(_c0='Produced by Melissa McDaniel and the Online Distributed'), Row(_c0='Proofreading Team at http://www.pgdp.net (This file was'), Row(_c0='produced from images generously made available by The'), Row(_c0='Internet Archive. The map and cover are courtesy of the')]\n",
      "\n",
      "Row(_c0=' ON SUNSET HIGHWAYS ***')\n",
      "Row(_c0='Produced by Melissa McDaniel and the Online Distributed')\n",
      "Row(_c0='Proofreading Team at http://www.pgdp.net (This file was')\n",
      "Row(_c0='produced from images generously made available by The')\n",
      "Row(_c0='Internet Archive. The map and cover are courtesy of the')\n",
      "Row(_c0='California History Room')\n",
      "Row(_c0='Sacramento')\n",
      "Row(_c0=\"Transcriber's Note:\")\n",
      "Row(_c0='  Inconsistent hyphenation in the original document has been')\n",
      "Row(_c0='  preserved. Obvious typographical errors have been corrected.')\n",
      "Row(_c0='     ON SUNSET')\n",
      "[None, None, None, None, None, None, None, None, None, None, None]\n"
     ]
    }
   ],
   "source": [
    "# the built in csv method reads also text files\n",
    "highway = spark.read.csv('OnSunsetHighways.txt')\n",
    "\n",
    "print(type(highway))\n",
    "print(highway.columns)\n",
    "print(highway.count())\n",
    "\n",
    "print(\"\")\n",
    "\n",
    "print(highway.take(5))\n",
    "\n",
    "print(\"\")\n",
    "\n",
    "print([print(line) for line in highway.take(11)])\n",
    "\n"
   ]
  },
  {
   "cell_type": "code",
   "execution_count": 1203,
   "metadata": {},
   "outputs": [
    {
     "name": "stdout",
     "output_type": "stream",
     "text": [
      "root\n",
      " |-- _c0: string (nullable = true)\n",
      "\n"
     ]
    }
   ],
   "source": [
    "highway.printSchema()"
   ]
  },
  {
   "cell_type": "code",
   "execution_count": 1204,
   "metadata": {},
   "outputs": [],
   "source": [
    "highway.createOrReplaceTempView('highway_table')"
   ]
  },
  {
   "cell_type": "code",
   "execution_count": 1205,
   "metadata": {},
   "outputs": [
    {
     "name": "stdout",
     "output_type": "stream",
     "text": [
      "[Row(_c0='California'), Row(_c0='California'), Row(_c0='California'), Row(_c0='California'), Row(_c0='California')]\n",
      "8\n"
     ]
    }
   ],
   "source": [
    "# select rows where column = California\n",
    "query_high_1 = \"From highway_table SELECT _c0 WHERE _c0='California'\"\n",
    "high_cali = spark.sql(query_high_1)\n",
    "print(high_cali.take(5))\n",
    "print(high_cali.count())"
   ]
  },
  {
   "cell_type": "markdown",
   "metadata": {},
   "source": [
    "## Loading a csv\n",
    "\n",
    "with the breas cancer data set obtained from the University of Wisconsin Hospitals.\n",
    "It consists of 10 features relevant for predicting cancer.\n",
    "The target variable is class with 2 for benign, 4 for malignant.\n",
    "The Class distribution is benign: 458 (65.5%) and malignant: 241 (34.5%)."
   ]
  },
  {
   "cell_type": "code",
   "execution_count": 1206,
   "metadata": {},
   "outputs": [
    {
     "name": "stdout",
     "output_type": "stream",
     "text": [
      "11\n"
     ]
    }
   ],
   "source": [
    "# Original column names of the breast cancer data set.\n",
    "# The names are long and have spaces.\n",
    "# Both is not ideal\n",
    "cancer_column_names = \\\n",
    "[\"Sample_code_number\",\"Clump Thickness\", \"Uniformity of Cell Size\",\n",
    " \"Uniformity of Cell Shape\", \"Adhesion\",  \"Single Epithelial Cell Size\",\n",
    " \"Bare Nuclei\", \"Bland Chromatin\", \"Normal Nucleoli\", \"Mitoses\", \n",
    " \"Class\"]\n",
    "\n",
    "print(len(cancer_column_names))\n"
   ]
  },
  {
   "cell_type": "code",
   "execution_count": 1207,
   "metadata": {},
   "outputs": [],
   "source": [
    "# using the schema to change the column names\n",
    "cancer_schema = \\\n",
    "StructType([\n",
    "    StructField(\"code\", IntegerType(), True),\n",
    "    StructField(\"clump\", IntegerType(), True),\n",
    "    StructField(\"cellSize\", IntegerType(), True),\n",
    "    StructField(\"cellShape\", IntegerType(), True),\n",
    "    StructField(\"Adh\", IntegerType(), True),\n",
    "    StructField(\"epithel\", IntegerType(), True),\n",
    "    StructField(\"bareNuclei\", IntegerType(), True),\n",
    "    StructField(\"chroma\", IntegerType(), True),\n",
    "    StructField(\"normalNucleoli\", IntegerType(), True),\n",
    "    StructField(\"mitose\", IntegerType(), True),\n",
    "    StructField(\"class\", IntegerType(), True)])"
   ]
  },
  {
   "cell_type": "code",
   "execution_count": 1208,
   "metadata": {},
   "outputs": [
    {
     "name": "stdout",
     "output_type": "stream",
     "text": [
      "<class 'pyspark.sql.dataframe.DataFrame'>\n",
      "\n",
      "[Row(code=1000025, clump=5, cellSize=1, cellShape=1, Adh=1, epithel=2, bareNuclei=1, chroma=3, normalNucleoli=1, mitose=1, class=2)]\n",
      "\n",
      "699\n",
      "11\n",
      "['code', 'clump', 'cellSize', 'cellShape', 'Adh', 'epithel', 'bareNuclei', 'chroma', 'normalNucleoli', 'mitose', 'class']\n"
     ]
    }
   ],
   "source": [
    "cancer = spark.read.csv(\"breast-cancer-wisconsin.csv\", header=False,\n",
    "                        inferSchema=True, schema=cancer_schema)\n",
    "\n",
    "# inspecting the data frame\n",
    "print(type(cancer))\n",
    "print(\"\")\n",
    "\n",
    "# show first row\n",
    "print(cancer.take(1))\n",
    "print(\"\")\n",
    "\n",
    "# shape\n",
    "print(cancer.count())\n",
    "print(len(cancer.columns))\n",
    "print(cancer.columns)"
   ]
  },
  {
   "cell_type": "code",
   "execution_count": 1209,
   "metadata": {},
   "outputs": [
    {
     "name": "stdout",
     "output_type": "stream",
     "text": [
      "+------+--------------+------+-----+\n",
      "|chroma|normalNucleoli|mitose|class|\n",
      "+------+--------------+------+-----+\n",
      "|     3|             1|     1|    2|\n",
      "|     3|             2|     1|    2|\n",
      "|     3|             1|     1|    2|\n",
      "|     3|             7|     1|    2|\n",
      "|     3|             1|     1|    2|\n",
      "+------+--------------+------+-----+\n",
      "only showing top 5 rows\n",
      "\n"
     ]
    }
   ],
   "source": [
    "cancer.select('chroma', 'normalNucleoli', 'mitose', 'class').show(5)"
   ]
  },
  {
   "cell_type": "code",
   "execution_count": 1210,
   "metadata": {},
   "outputs": [
    {
     "name": "stdout",
     "output_type": "stream",
     "text": [
      "      code  clump  cellSize  cellShape  Adh  epithel  bareNuclei  chroma  \\\n",
      "0  1000025      5         1          1    1        2         1.0       3   \n",
      "1  1002945      5         4          4    5        7        10.0       3   \n",
      "2  1015425      3         1          1    1        2         2.0       3   \n",
      "3  1016277      6         8          8    1        3         4.0       3   \n",
      "4  1017023      4         1          1    3        2         1.0       3   \n",
      "\n",
      "   normalNucleoli  mitose  class  \n",
      "0               1       1      2  \n",
      "1               2       1      2  \n",
      "2               1       1      2  \n",
      "3               7       1      2  \n",
      "4               1       1      2  \n"
     ]
    }
   ],
   "source": [
    "cancer_pd = cancer.toPandas()\n",
    "print(cancer_pd.head())\n"
   ]
  },
  {
   "cell_type": "code",
   "execution_count": 1211,
   "metadata": {},
   "outputs": [
    {
     "data": {
      "image/png": "[encoded data removed]",
      "text/plain": [
       "<Figure size 720x648 with 12 Axes>"
      ]
     },
     "metadata": {
      "needs_background": "light"
     },
     "output_type": "display_data"
    }
   ],
   "source": [
    "# hist = df.hist(bins=3)\n",
    "# plot histograms of the variables\n",
    "cancer_pd.hist(figsize=(10,9), edgecolor=\"red\", linewidth=2)\n",
    "plt.show()"
   ]
  },
  {
   "cell_type": "markdown",
   "metadata": {},
   "source": [
    "#### Filter"
   ]
  },
  {
   "cell_type": "code",
   "execution_count": 1212,
   "metadata": {},
   "outputs": [
    {
     "name": "stdout",
     "output_type": "stream",
     "text": [
      "34\n"
     ]
    }
   ],
   "source": [
    "# filter with domain specific language\n",
    "cancer_1 = cancer.filter(cancer['mitose'] > 5 )\n",
    "print(cancer_1.count())\n",
    "# 139 of mitoses are greater 5"
   ]
  },
  {
   "cell_type": "code",
   "execution_count": 1213,
   "metadata": {},
   "outputs": [
    {
     "name": "stdout",
     "output_type": "stream",
     "text": [
      "+-----+------+--------------+------+\n",
      "|class|chroma|normalNucleoli|mitose|\n",
      "+-----+------+--------------+------+\n",
      "|    4|     7|             3|     7|\n",
      "|    4|     4|             3|    10|\n",
      "|    4|     8|             9|     8|\n",
      "|    4|     7|             8|    10|\n",
      "|    4|     7|            10|     7|\n",
      "+-----+------+--------------+------+\n",
      "only showing top 5 rows\n",
      "\n",
      "None\n",
      "34\n"
     ]
    }
   ],
   "source": [
    "cancer.createOrReplaceTempView('cancer_table')\n",
    "qcancer_1 =\\\n",
    "\"SELECT class, chroma, normalNucleoli, mitose FROM cancer_table WHERE Mitose > 5\"\n",
    "\n",
    "qcancer_mitoses = spark.sql(qcancer_1)\n",
    "print(qcancer_mitoses.show(5))\n",
    "print(qcancer_mitoses.count())"
   ]
  },
  {
   "cell_type": "code",
   "execution_count": 1214,
   "metadata": {},
   "outputs": [
    {
     "name": "stdout",
     "output_type": "stream",
     "text": [
      "+-----+-----------+-------------------+-----------+\n",
      "|class|min(chroma)|min(normalNucleoli)|min(mitose)|\n",
      "+-----+-----------+-------------------+-----------+\n",
      "|    2|          1|                  1|          1|\n",
      "|    4|          1|                  1|          1|\n",
      "+-----+-----------+-------------------+-----------+\n",
      "\n"
     ]
    }
   ],
   "source": [
    "# domain specific language\n",
    "cancer.select('class', 'chroma', 'normalNucleoli', 'mitose').\\\n",
    "groupBy('class').min().orderBy('class').drop('min(class)').show()"
   ]
  },
  {
   "cell_type": "code",
   "execution_count": 1215,
   "metadata": {},
   "outputs": [
    {
     "name": "stdout",
     "output_type": "stream",
     "text": [
      "+-----+-----------+-------------------+-----------+\n",
      "|class|min(chroma)|min(normalNucleoli)|min(mitose)|\n",
      "+-----+-----------+-------------------+-----------+\n",
      "|    2|          1|                  1|          1|\n",
      "|    4|          1|                  1|          1|\n",
      "+-----+-----------+-------------------+-----------+\n",
      "\n"
     ]
    }
   ],
   "source": [
    "# spark.sql API\n",
    "qcancer_3 = \\\n",
    "\"SELECT class, MIN(chroma), MIN(normalNucleoli),\\\n",
    "MIN(mitose) FROM cancer_table GROUP BY class ORDER BY class\"\n",
    "\n",
    "qcancer_sql3 = spark.sql(qcancer_3)\n",
    "qcancer_sql3.show()"
   ]
  },
  {
   "cell_type": "markdown",
   "metadata": {},
   "source": [
    "## Data visualization with HandySpark\n",
    "\n",
    "<p>\n",
    "on Github the purpose of this package is aptly describe as \"bringing pandas-like capabilities to Spark dataframes\".\n",
    "</p> \n",
    "\n",
    "\n",
    "<a href=\" https://github.com/dvgodoy/handyspark\" target=\"_blank\">Github: \n",
    "    HandySpark - bringing pandas-like capabilities to Spark dataframes</a>"
   ]
  },
  {
   "cell_type": "code",
   "execution_count": 1216,
   "metadata": {},
   "outputs": [
    {
     "name": "stdout",
     "output_type": "stream",
     "text": [
      "<class 'handyspark.sql.dataframe.HandyFrame'>\n",
      "Row(code=1000025, clump=5, cellSize=1, cellShape=1, Adh=1, epithel=2, bareNuclei=1, chroma=3, normalNucleoli=1, mitose=1, class=2)\n"
     ]
    }
   ],
   "source": [
    "cancer_hdf = cancer.toHandy()\n",
    "\n",
    "print(type(cancer_hdf ))\n",
    "print(cancer_hdf.head())\n"
   ]
  },
  {
   "cell_type": "code",
   "execution_count": 1217,
   "metadata": {},
   "outputs": [
    {
     "name": "stdout",
     "output_type": "stream",
     "text": [
      "+-------+-----+--------+---------+---+-------+----------+------+--------------+------+-----+\n",
      "|   code|clump|cellSize|cellShape|Adh|epithel|bareNuclei|chroma|normalNucleoli|mitose|class|\n",
      "+-------+-----+--------+---------+---+-------+----------+------+--------------+------+-----+\n",
      "|1000025|    5|       1|        1|  1|      2|         1|     3|             1|     1|    2|\n",
      "|1002945|    5|       4|        4|  5|      7|        10|     3|             2|     1|    2|\n",
      "+-------+-----+--------+---------+---+-------+----------+------+--------------+------+-----+\n",
      "only showing top 2 rows\n",
      "\n"
     ]
    },
    {
     "data": {
      "text/plain": [
       "None"
      ]
     },
     "metadata": {},
     "output_type": "display_data"
    },
    {
     "name": "stdout",
     "output_type": "stream",
     "text": [
      "None\n"
     ]
    }
   ],
   "source": [
    "print(display(cancer_hdf.show(2)))"
   ]
  },
  {
   "cell_type": "markdown",
   "metadata": {},
   "source": [
    "Subsetting is possible with handy spark using 'cols\" as an entry point method into pandas."
   ]
  },
  {
   "cell_type": "code",
   "execution_count": 1218,
   "metadata": {},
   "outputs": [
    {
     "name": "stdout",
     "output_type": "stream",
     "text": [
      "0    1000025\n",
      "1    1002945\n",
      "2    1015425\n",
      "3    1016277\n",
      "4    1017023\n",
      "5    1017122\n",
      "6    1018099\n",
      "7    1018561\n",
      "8    1033078\n",
      "9    1033078\n",
      "Name: code, dtype: int32\n",
      "<class 'pandas.core.series.Series'>\n"
     ]
    }
   ],
   "source": [
    "subset1 = cancer_hdf.cols['code'][:10]\n",
    "print(subset1)\n",
    "print(type(subset1))"
   ]
  },
  {
   "cell_type": "code",
   "execution_count": 1219,
   "metadata": {},
   "outputs": [
    {
     "name": "stdout",
     "output_type": "stream",
     "text": [
      "   cellShape  epithel  bareNuclei\n",
      "0          1        2           1\n",
      "1          4        7          10\n",
      "2          1        2           2\n",
      "3          8        3           4\n",
      "4          1        2           1\n",
      "<class 'pandas.core.frame.DataFrame'>\n"
     ]
    }
   ],
   "source": [
    "subset2 = cancer_hdf.cols[['cellShape', 'epithel', 'bareNuclei']][:5]\n",
    "print(subset2 )\n",
    "print(type(subset2 ))"
   ]
  },
  {
   "cell_type": "code",
   "execution_count": 1220,
   "metadata": {},
   "outputs": [
    {
     "name": "stdout",
     "output_type": "stream",
     "text": [
      "cellShape\n",
      "1     353\n",
      "2      59\n",
      "3      56\n",
      "4      44\n",
      "5      34\n",
      "6      30\n",
      "7      30\n",
      "8      28\n",
      "9       7\n",
      "10     58\n",
      "Name: value_counts, dtype: int64\n",
      "<class 'pandas.core.series.Series'>\n"
     ]
    }
   ],
   "source": [
    "subset3 = cancer_hdf.cols['cellShape'].value_counts()\n",
    "\n",
    "print(subset3)\n",
    "print(type(subset3))"
   ]
  },
  {
   "cell_type": "code",
   "execution_count": 1221,
   "metadata": {},
   "outputs": [
    {
     "name": "stdout",
     "output_type": "stream",
     "text": [
      "<class 'pandas.core.frame.DataFrame'>\n",
      "            cellShape   epithel  bareNuclei\n",
      "cellShape    1.000000  0.722462    0.713878\n",
      "epithel      0.722462  1.000000    0.585716\n",
      "bareNuclei   0.713878  0.585716    1.000000\n"
     ]
    }
   ],
   "source": [
    "corr_1 = cancer_hdf.cols[['cellShape', 'epithel', 'bareNuclei']].corr()\n",
    "\n",
    "print(type(corr_1))\n",
    "print(corr_1)"
   ]
  },
  {
   "cell_type": "markdown",
   "metadata": {},
   "source": [
    "### Null-values"
   ]
  },
  {
   "cell_type": "code",
   "execution_count": 1222,
   "metadata": {},
   "outputs": [
    {
     "data": {
      "text/plain": [
       "code               0\n",
       "clump              0\n",
       "cellSize           0\n",
       "cellShape          0\n",
       "Adh                0\n",
       "epithel            0\n",
       "bareNuclei        16\n",
       "chroma             0\n",
       "normalNucleoli     0\n",
       "mitose             0\n",
       "class              0\n",
       "Name: missing, dtype: int64"
      ]
     },
     "execution_count": 1222,
     "metadata": {},
     "output_type": "execute_result"
    }
   ],
   "source": [
    "cancer_hdf.isnull(ratio=False)"
   ]
  },
  {
   "cell_type": "code",
   "execution_count": 1223,
   "metadata": {},
   "outputs": [
    {
     "data": {
      "text/plain": [
       "code              0.00000\n",
       "clump             0.00000\n",
       "cellSize          0.00000\n",
       "cellShape         0.00000\n",
       "Adh               0.00000\n",
       "epithel           0.00000\n",
       "bareNuclei        0.02289\n",
       "chroma            0.00000\n",
       "normalNucleoli    0.00000\n",
       "mitose            0.00000\n",
       "class             0.00000\n",
       "Name: missing(ratio), dtype: float64"
      ]
     },
     "execution_count": 1223,
     "metadata": {},
     "output_type": "execute_result"
    }
   ],
   "source": [
    "cancer_hdf.isnull(ratio=True)"
   ]
  },
  {
   "cell_type": "markdown",
   "metadata": {},
   "source": [
    "#### Handling missing values"
   ]
  },
  {
   "cell_type": "code",
   "execution_count": 1224,
   "metadata": {},
   "outputs": [
    {
     "data": {
      "text/plain": [
       "code              0\n",
       "clump             0\n",
       "cellSize          0\n",
       "cellShape         0\n",
       "Adh               0\n",
       "epithel           0\n",
       "bareNuclei        0\n",
       "chroma            0\n",
       "normalNucleoli    0\n",
       "mitose            0\n",
       "class             0\n",
       "Name: missing, dtype: int64"
      ]
     },
     "execution_count": 1224,
     "metadata": {},
     "output_type": "execute_result"
    }
   ],
   "source": [
    "# missing  values substituted with the median\n",
    "cancer_hdf_filled = cancer_hdf.fill(categorical=['bareNuclei'], strategy = 'median')\n",
    "cancer_hdf_filled.isnull()"
   ]
  },
  {
   "cell_type": "markdown",
   "metadata": {},
   "source": [
    "### Plots in HandySpark"
   ]
  },
  {
   "cell_type": "code",
   "execution_count": 1225,
   "metadata": {},
   "outputs": [
    {
     "data": {
      "image/png": "[encoded data removed]",
      "text/plain": [
       "<Figure size 1080x720 with 4 Axes>"
      ]
     },
     "metadata": {
      "needs_background": "light"
     },
     "output_type": "display_data"
    }
   ],
   "source": [
    "# target variable class\n",
    "fig, axes = plt.subplots(2,2, figsize=(15, 10))\n",
    "\n",
    "cancer_hdf_filled.cols['class'].hist(ax=axes[0,0])\n",
    "cancer_hdf_filled.cols['class'].boxplot(ax=axes[0,1])\n",
    "cancer_hdf_filled.cols[['class', 'mitose']].scatterplot(ax=axes[1,0])\n",
    "cancer_hdf_filled.cols[['class', 'normalNucleoli']].scatterplot(ax=axes[1,1])\n",
    "plt.show()\n"
   ]
  },
  {
   "cell_type": "code",
   "execution_count": 1226,
   "metadata": {},
   "outputs": [
    {
     "data": {
      "image/png": "[encoded data removed]",
      "text/plain": [
       "<Figure size 1080x1080 with 9 Axes>"
      ]
     },
     "metadata": {
      "needs_background": "light"
     },
     "output_type": "display_data"
    }
   ],
   "source": [
    "fig, axes = plt.subplots(3,3)\n",
    "fig.set_size_inches(15,15)\n",
    "\n",
    "# the handy spark plot are having an ax method!!!\n",
    "cancer_hdf_filled.cols['cellShape'].hist(ax=axes[0,0])\n",
    "cancer_hdf_filled.cols['normalNucleoli'].hist(ax=axes[0,1])\n",
    "cancer_hdf_filled.cols['mitose'].hist(ax=axes[0,2])\n",
    "\n",
    "cancer_hdf_filled.cols['cellShape'].boxplot(ax=axes[1,0])\n",
    "cancer_hdf_filled.cols['normalNucleoli'].boxplot(ax=axes[1,1])\n",
    "cancer_hdf_filled.cols['mitose'].boxplot(ax=axes[1,2])\n",
    "\n",
    "\n",
    "cancer_hdf_filled.cols[['normalNucleoli', 'mitose']].scatterplot(ax=axes[2,0])\n",
    "cancer_hdf_filled.cols[['cellShape', 'normalNucleoli']].scatterplot(ax=axes[2,1])\n",
    "cancer_hdf_filled.cols[['cellShape', 'mitose']].scatterplot(ax=axes[2,2])\n",
    "\n",
    "\n",
    "plt.show()"
   ]
  },
  {
   "cell_type": "markdown",
   "metadata": {},
   "source": [
    "There are outliers in the given variables."
   ]
  },
  {
   "cell_type": "markdown",
   "metadata": {},
   "source": [
    "#### Stratification\n",
    "\n",
    "by splitting the data set on discrete columns with a limited number \n",
    "of value states and then applying an aggregate function."
   ]
  },
  {
   "cell_type": "code",
   "execution_count": 1227,
   "metadata": {},
   "outputs": [
    {
     "data": {
      "text/plain": [
       "class  chroma\n",
       "2      1         150\n",
       "       2         159\n",
       "       3         129\n",
       "       4           8\n",
       "       5           4\n",
       "       6           1\n",
       "       7           7\n",
       "4      1           2\n",
       "       2           7\n",
       "       3          36\n",
       "       4          32\n",
       "       5          30\n",
       "       6           9\n",
       "       7          66\n",
       "       8          28\n",
       "       9          11\n",
       "       10         20\n",
       "Name: value_counts, dtype: int64"
      ]
     },
     "execution_count": 1227,
     "metadata": {},
     "output_type": "execute_result"
    }
   ],
   "source": [
    "cancer_hdf_filled.stratify(['class']).cols['chroma'].value_counts()"
   ]
  },
  {
   "cell_type": "code",
   "execution_count": 1228,
   "metadata": {},
   "outputs": [
    {
     "data": {
      "text/plain": [
       "class  chroma                                  mitose\n",
       "2      chroma >= 1.0000 and chroma < 4.0000    1         427\n",
       "                                               2           6\n",
       "                                               3           2\n",
       "                                               5           1\n",
       "                                               7           1\n",
       "                                               8           1\n",
       "       chroma >= 4.0000 and chroma < 7.0000    1          12\n",
       "                                               2           1\n",
       "       chroma >= 7.0000 and chroma <= 10.0000  1           6\n",
       "                                               2           1\n",
       "4      chroma >= 1.0000 and chroma < 4.0000    1          25\n",
       "                                               2           8\n",
       "                                               3           5\n",
       "                                               4           1\n",
       "                                               5           1\n",
       "                                               7           1\n",
       "                                               8           1\n",
       "                                               10          3\n",
       "       chroma >= 4.0000 and chroma < 7.0000    1          40\n",
       "                                               2           8\n",
       "                                               3          11\n",
       "                                               4           7\n",
       "                                               7           1\n",
       "                                               10          4\n",
       "       chroma >= 7.0000 and chroma <= 10.0000  1          69\n",
       "                                               2          11\n",
       "                                               3          15\n",
       "                                               4           4\n",
       "                                               5           4\n",
       "                                               6           3\n",
       "                                               7           6\n",
       "                                               8           6\n",
       "                                               10          7\n",
       "Name: value_counts, dtype: int64"
      ]
     },
     "execution_count": 1228,
     "metadata": {},
     "output_type": "execute_result"
    }
   ],
   "source": [
    "# stratifying on a column containing continuous values\n",
    "# is done by creating buckets or bins or ranges\n",
    "# does here not work perfectly as all variables are of type integer\n",
    "cancer_hdf_filled.stratify(['class', Bucket('chroma',3)]).cols['mitose'].value_counts()"
   ]
  },
  {
   "cell_type": "markdown",
   "metadata": {},
   "source": [
    "### Detecting outliers with the Tukey's method"
   ]
  },
  {
   "cell_type": "code",
   "execution_count": 1229,
   "metadata": {},
   "outputs": [
    {
     "data": {
      "text/plain": [
       "code                2\n",
       "clump               0\n",
       "cellSize            0\n",
       "cellShape           0\n",
       "Adh                55\n",
       "epithel             0\n",
       "bareNuclei          0\n",
       "chroma              0\n",
       "normalNucleoli     61\n",
       "mitose            120\n",
       "class               0\n",
       "Name: outliers, dtype: int64"
      ]
     },
     "execution_count": 1229,
     "metadata": {},
     "output_type": "execute_result"
    }
   ],
   "source": [
    "cancer_hdf_filled.outliers(method='tukey', k=3.)"
   ]
  },
  {
   "cell_type": "code",
   "execution_count": 1230,
   "metadata": {},
   "outputs": [
    {
     "name": "stdout",
     "output_type": "stream",
     "text": [
      "<class 'handyspark.sql.dataframe.HandyFrame'>\n",
      "['code', 'clump', 'cellSize', 'cellShape', 'Adh', 'epithel', 'bareNuclei', 'chroma', 'normalNucleoli', 'mitose', 'class']\n"
     ]
    }
   ],
   "source": [
    "cancer_out = cancer_hdf_filled.fence(['mitose', 'Adh', 'code', 'normalNucleoli'])\n",
    "\n",
    "print(type(cancer_out))\n",
    "print(cancer_out.columns)"
   ]
  },
  {
   "cell_type": "code",
   "execution_count": 1231,
   "metadata": {},
   "outputs": [
    {
     "data": {
      "text/plain": [
       "{'mitose': [1.0, 1.0],\n",
       " 'Adh': [-2.0, 6.0],\n",
       " 'code': [339517.0, 1773581.0],\n",
       " 'normalNucleoli': [-2.0, 6.0]}"
      ]
     },
     "execution_count": 1231,
     "metadata": {},
     "output_type": "execute_result"
    }
   ],
   "source": [
    "cancer_out.fences_"
   ]
  },
  {
   "cell_type": "code",
   "execution_count": 1232,
   "metadata": {},
   "outputs": [
    {
     "data": {
      "text/plain": [
       "clump         0\n",
       "cellSize      0\n",
       "cellShape     0\n",
       "epithel       0\n",
       "bareNuclei    0\n",
       "chroma        0\n",
       "class         0\n",
       "Name: outliers, dtype: int64"
      ]
     },
     "execution_count": 1232,
     "metadata": {},
     "output_type": "execute_result"
    }
   ],
   "source": [
    "cancer_out.outliers(method='tukey', k=3.)"
   ]
  },
  {
   "cell_type": "markdown",
   "metadata": {},
   "source": [
    "The outliers are gone."
   ]
  },
  {
   "cell_type": "code",
   "execution_count": 1233,
   "metadata": {},
   "outputs": [
    {
     "name": "stdout",
     "output_type": "stream",
     "text": [
      "root\n",
      " |-- code: decimal(11,1) (nullable = false)\n",
      " |-- clump: integer (nullable = true)\n",
      " |-- cellSize: integer (nullable = true)\n",
      " |-- cellShape: integer (nullable = true)\n",
      " |-- Adh: decimal(11,1) (nullable = false)\n",
      " |-- epithel: integer (nullable = true)\n",
      " |-- bareNuclei: integer (nullable = true)\n",
      " |-- chroma: integer (nullable = true)\n",
      " |-- normalNucleoli: decimal(11,1) (nullable = false)\n",
      " |-- mitose: decimal(11,1) (nullable = false)\n",
      " |-- class: integer (nullable = true)\n",
      "\n"
     ]
    }
   ],
   "source": [
    "# for whatever reason at least here \n",
    "# fence turns the processed column into an object\n",
    "# this throws an error when trying to plot it\n",
    "# the column is over pandas converted to a numeric\n",
    "cancer_out.printSchema()"
   ]
  },
  {
   "cell_type": "code",
   "execution_count": 1234,
   "metadata": {},
   "outputs": [
    {
     "data": {
      "text/plain": [
       "0    1.0\n",
       "1    2.0\n",
       "2    1.0\n",
       "3    6.0\n",
       "4    1.0\n",
       "Name: normalNucleoli, dtype: object"
      ]
     },
     "execution_count": 1234,
     "metadata": {},
     "output_type": "execute_result"
    }
   ],
   "source": [
    "cancer_out.cols['normalNucleoli'][:5]"
   ]
  },
  {
   "cell_type": "code",
   "execution_count": 1235,
   "metadata": {},
   "outputs": [
    {
     "name": "stdout",
     "output_type": "stream",
     "text": [
      "\n",
      "INFO: Safety is ON - returning up to 1000 instances.\n",
      "<class 'pandas.core.frame.DataFrame'>\n",
      "RangeIndex: 699 entries, 0 to 698\n",
      "Data columns (total 11 columns):\n",
      "code              699 non-null object\n",
      "clump             699 non-null int32\n",
      "cellSize          699 non-null int32\n",
      "cellShape         699 non-null int32\n",
      "Adh               699 non-null object\n",
      "epithel           699 non-null int32\n",
      "bareNuclei        699 non-null int32\n",
      "chroma            699 non-null int32\n",
      "normalNucleoli    699 non-null object\n",
      "mitose            699 non-null object\n",
      "class             699 non-null int32\n",
      "dtypes: int32(7), object(4)\n",
      "memory usage: 41.1+ KB\n",
      "None\n"
     ]
    }
   ],
   "source": [
    "cancer_out3=cancer_out.toPandas()\n",
    "print(cancer_out3.info())"
   ]
  },
  {
   "cell_type": "code",
   "execution_count": 1236,
   "metadata": {},
   "outputs": [
    {
     "data": {
      "text/html": [
       "<div>\n",
       "<style scoped>\n",
       "    .dataframe tbody tr th:only-of-type {\n",
       "        vertical-align: middle;\n",
       "    }\n",
       "\n",
       "    .dataframe tbody tr th {\n",
       "        vertical-align: top;\n",
       "    }\n",
       "\n",
       "    .dataframe thead th {\n",
       "        text-align: right;\n",
       "    }\n",
       "</style>\n",
       "<table border=\"1\" class=\"dataframe\">\n",
       "  <thead>\n",
       "    <tr style=\"text-align: right;\">\n",
       "      <th></th>\n",
       "      <th>code</th>\n",
       "      <th>clump</th>\n",
       "      <th>cellSize</th>\n",
       "      <th>cellShape</th>\n",
       "      <th>Adh</th>\n",
       "      <th>epithel</th>\n",
       "      <th>bareNuclei</th>\n",
       "      <th>chroma</th>\n",
       "      <th>normalNucleoli</th>\n",
       "      <th>mitose</th>\n",
       "      <th>class</th>\n",
       "    </tr>\n",
       "  </thead>\n",
       "  <tbody>\n",
       "    <tr>\n",
       "      <td>0</td>\n",
       "      <td>1000025.0</td>\n",
       "      <td>5</td>\n",
       "      <td>1</td>\n",
       "      <td>1</td>\n",
       "      <td>1.0</td>\n",
       "      <td>2</td>\n",
       "      <td>1</td>\n",
       "      <td>3</td>\n",
       "      <td>1.0</td>\n",
       "      <td>1.0</td>\n",
       "      <td>2</td>\n",
       "    </tr>\n",
       "    <tr>\n",
       "      <td>1</td>\n",
       "      <td>1002945.0</td>\n",
       "      <td>5</td>\n",
       "      <td>4</td>\n",
       "      <td>4</td>\n",
       "      <td>5.0</td>\n",
       "      <td>7</td>\n",
       "      <td>10</td>\n",
       "      <td>3</td>\n",
       "      <td>2.0</td>\n",
       "      <td>1.0</td>\n",
       "      <td>2</td>\n",
       "    </tr>\n",
       "    <tr>\n",
       "      <td>2</td>\n",
       "      <td>1015425.0</td>\n",
       "      <td>3</td>\n",
       "      <td>1</td>\n",
       "      <td>1</td>\n",
       "      <td>1.0</td>\n",
       "      <td>2</td>\n",
       "      <td>2</td>\n",
       "      <td>3</td>\n",
       "      <td>1.0</td>\n",
       "      <td>1.0</td>\n",
       "      <td>2</td>\n",
       "    </tr>\n",
       "    <tr>\n",
       "      <td>3</td>\n",
       "      <td>1016277.0</td>\n",
       "      <td>6</td>\n",
       "      <td>8</td>\n",
       "      <td>8</td>\n",
       "      <td>1.0</td>\n",
       "      <td>3</td>\n",
       "      <td>4</td>\n",
       "      <td>3</td>\n",
       "      <td>6.0</td>\n",
       "      <td>1.0</td>\n",
       "      <td>2</td>\n",
       "    </tr>\n",
       "    <tr>\n",
       "      <td>4</td>\n",
       "      <td>1017023.0</td>\n",
       "      <td>4</td>\n",
       "      <td>1</td>\n",
       "      <td>1</td>\n",
       "      <td>3.0</td>\n",
       "      <td>2</td>\n",
       "      <td>1</td>\n",
       "      <td>3</td>\n",
       "      <td>1.0</td>\n",
       "      <td>1.0</td>\n",
       "      <td>2</td>\n",
       "    </tr>\n",
       "  </tbody>\n",
       "</table>\n",
       "</div>"
      ],
      "text/plain": [
       "        code  clump  cellSize  cellShape  Adh  epithel  bareNuclei  chroma  \\\n",
       "0  1000025.0      5         1          1  1.0        2           1       3   \n",
       "1  1002945.0      5         4          4  5.0        7          10       3   \n",
       "2  1015425.0      3         1          1  1.0        2           2       3   \n",
       "3  1016277.0      6         8          8  1.0        3           4       3   \n",
       "4  1017023.0      4         1          1  3.0        2           1       3   \n",
       "\n",
       "  normalNucleoli mitose  class  \n",
       "0            1.0    1.0      2  \n",
       "1            2.0    1.0      2  \n",
       "2            1.0    1.0      2  \n",
       "3            6.0    1.0      2  \n",
       "4            1.0    1.0      2  "
      ]
     },
     "execution_count": 1236,
     "metadata": {},
     "output_type": "execute_result"
    }
   ],
   "source": [
    "cancer_out3.head()"
   ]
  },
  {
   "cell_type": "code",
   "execution_count": 1237,
   "metadata": {},
   "outputs": [],
   "source": [
    "cancer_out3['Adh'] = cancer_out3['Adh'].astype(float)\n",
    "cancer_out3['normalNucleoli'] = cancer_out3['normalNucleoli'].astype(float)\n",
    "cancer_out3['mitose'] = cancer_out3['mitose'].astype(float)"
   ]
  },
  {
   "cell_type": "code",
   "execution_count": 1238,
   "metadata": {},
   "outputs": [
    {
     "data": {
      "image/png": "[encoded data removed]",
      "text/plain": [
       "<Figure size 1296x288 with 3 Axes>"
      ]
     },
     "metadata": {
      "needs_background": "light"
     },
     "output_type": "display_data"
    }
   ],
   "source": [
    "fig, axes = plt.subplots(1,3)\n",
    "fig.set_size_inches(18,4)\n",
    "\n",
    "# for a plot array consisting of one row the axes argument is only a single number\n",
    "cancer_out3['Adh'].plot.box(ax=axes[0])\n",
    "cancer_out3['normalNucleoli'].plot.box(ax=axes[1])\n",
    "cancer_out3['mitose'].plot.box(ax=axes[2])\n",
    "\n",
    "plt.show()"
   ]
  },
  {
   "cell_type": "markdown",
   "metadata": {},
   "source": [
    "The outliers are gone."
   ]
  },
  {
   "cell_type": "code",
   "execution_count": 1239,
   "metadata": {},
   "outputs": [
    {
     "name": "stdout",
     "output_type": "stream",
     "text": [
      "<class 'handyspark.ml.base.HandyFencer'>\n"
     ]
    }
   ],
   "source": [
    "cancer_fencer = cancer_out.transformers.fencer()\n",
    "print(type(cancer_fencer))\n"
   ]
  },
  {
   "cell_type": "markdown",
   "metadata": {},
   "source": [
    "# Machine learning"
   ]
  },
  {
   "cell_type": "code",
   "execution_count": 1240,
   "metadata": {},
   "outputs": [
    {
     "name": "stdout",
     "output_type": "stream",
     "text": [
      "<class 'pandas.core.frame.DataFrame'>\n",
      "<class 'handyspark.sql.dataframe.HandyFrame'>\n",
      "['code', 'clump', 'cellSize', 'cellShape', 'Adh', 'epithel', 'bareNuclei', 'chroma', 'normalNucleoli', 'mitose', 'class']\n"
     ]
    }
   ],
   "source": [
    "print(type(cancer_out3))\n",
    "print(type(cancer_out))\n",
    "\n",
    "# class is the target variable\n",
    "print(cancer_out.columns)"
   ]
  },
  {
   "cell_type": "markdown",
   "metadata": {},
   "source": [
    "\"Spark withColumn() function is used to rename, change the value, convert the datatype of an existing DataFrame column and also can be used to create a new column, on this post, I will walk you through commonly used DataFrame column operations with Scala and Pyspark examples.\"\n",
    "\n",
    "<a href=\"https://sparkbyexamples.com/spark/spark-dataframe-withcolumn/\" target=\"_blank\">Spark DataFrame withColumn</a> "
   ]
  },
  {
   "cell_type": "code",
   "execution_count": 1241,
   "metadata": {},
   "outputs": [
    {
     "name": "stdout",
     "output_type": "stream",
     "text": [
      "['code', 'clump', 'cellSize', 'cellShape', 'Adh', 'epithel', 'bareNuclei', 'chroma', 'normalNucleoli', 'mitose', 'label']\n",
      "+-----+\n",
      "|label|\n",
      "+-----+\n",
      "|    2|\n",
      "|    2|\n",
      "|    2|\n",
      "+-----+\n",
      "only showing top 3 rows\n",
      "\n",
      "None\n",
      "+-----+\n",
      "|label|\n",
      "+-----+\n",
      "|    2|\n",
      "|    4|\n",
      "+-----+\n",
      "\n",
      "None\n"
     ]
    }
   ],
   "source": [
    "\n",
    "# add a new column to the existing column\n",
    "cancer_out2 = \\\n",
    "cancer_out.withColumn('label', cancer_out['class'])\n",
    "\n",
    "# drop the redundant column\n",
    "cancer_out2=cancer_out2.drop('class')\n",
    "\n",
    "print(cancer_out2.columns)\n",
    "\n",
    "print(cancer_out2.select('label').show(3))\n",
    "print(cancer_out2.select('label').distinct().show(3))"
   ]
  },
  {
   "cell_type": "markdown",
   "metadata": {},
   "source": [
    "## Train-test-split"
   ]
  },
  {
   "cell_type": "code",
   "execution_count": 1242,
   "metadata": {},
   "outputs": [
    {
     "name": "stdout",
     "output_type": "stream",
     "text": [
      "<class 'pyspark.sql.dataframe.DataFrame'>\n",
      "\n",
      "dimensions training set: nrows: 481 , ncols: 11\n",
      "dimensions test set: nrows: 218 , ncols: 11\n",
      "\n",
      "['code', 'clump', 'cellSize', 'cellShape', 'Adh', 'epithel', 'bareNuclei', 'chroma', 'normalNucleoli', 'mitose', 'label']\n"
     ]
    }
   ],
   "source": [
    "\n",
    "\n",
    "training, test=cancer_out2.randomSplit([0.7, 0.3])\n",
    "\n",
    "print(type(training))\n",
    "print(\"\")\n",
    "print(\"dimensions training set: nrows: {} , ncols: {}\".\n",
    "      format(training.count(), len(training.columns)))\n",
    "print(\"dimensions test set: nrows: {} , ncols: {}\".\n",
    "      format(test.count(), len(test.columns)))\n",
    "print(\"\")\n",
    "print(training.columns)"
   ]
  },
  {
   "cell_type": "markdown",
   "metadata": {},
   "source": [
    "## Random Forest model"
   ]
  },
  {
   "cell_type": "code",
   "execution_count": 1243,
   "metadata": {},
   "outputs": [],
   "source": [
    "features = ['code', 'clump', 'cellSize', 'cellShape', 'Adh', 'epithel', \n",
    "            'bareNuclei', 'chroma', 'normalNucleoli', 'mitose']"
   ]
  },
  {
   "cell_type": "code",
   "execution_count": 1244,
   "metadata": {},
   "outputs": [],
   "source": [
    "vector = VectorAssembler(inputCols= features, outputCol='features')"
   ]
  },
  {
   "cell_type": "code",
   "execution_count": 1245,
   "metadata": {},
   "outputs": [
    {
     "name": "stdout",
     "output_type": "stream",
     "text": [
      "<class 'pyspark.ml.classification.RandomForestClassifier'>\n"
     ]
    }
   ],
   "source": [
    "rf_classifier = RandomForestClassifier(featuresCol='features', labelCol='label', numTrees=20)\n",
    "print(type(rf_classifier))"
   ]
  },
  {
   "cell_type": "code",
   "execution_count": 1246,
   "metadata": {},
   "outputs": [
    {
     "name": "stdout",
     "output_type": "stream",
     "text": [
      "<class 'pyspark.ml.pipeline.Pipeline'>\n"
     ]
    }
   ],
   "source": [
    "pipeline = Pipeline(stages=[vector, rf_classifier])\n",
    "print(type(pipeline))"
   ]
  },
  {
   "cell_type": "code",
   "execution_count": 1247,
   "metadata": {},
   "outputs": [],
   "source": [
    "rf_model = pipeline.fit(training)"
   ]
  },
  {
   "cell_type": "code",
   "execution_count": 1248,
   "metadata": {},
   "outputs": [
    {
     "name": "stdout",
     "output_type": "stream",
     "text": [
      "<class 'pyspark.sql.dataframe.DataFrame'>\n",
      "['code', 'clump', 'cellSize', 'cellShape', 'Adh', 'epithel', 'bareNuclei', 'chroma', 'normalNucleoli', 'mitose', 'label', 'features', 'rawPrediction', 'probability', 'prediction']\n",
      "+--------------------+\n",
      "|            features|\n",
      "+--------------------+\n",
      "|[339517.0,1.0,1.0...|\n",
      "|[339517.0,3.0,1.0...|\n",
      "|[339517.0,3.0,3.0...|\n",
      "|[339517.0,5.0,4.0...|\n",
      "|[339517.0,5.0,8.0...|\n",
      "+--------------------+\n",
      "only showing top 5 rows\n",
      "\n",
      "None\n"
     ]
    }
   ],
   "source": [
    "predictions = rf_model.transform(test)\n",
    "\n",
    "print(type(predictions))\n",
    "print(predictions.columns)\n",
    "print(predictions.select('features').show(5))"
   ]
  },
  {
   "cell_type": "code",
   "execution_count": 1249,
   "metadata": {},
   "outputs": [],
   "source": [
    "select_23 = \\\n",
    "['label', 'rawPrediction', 'probability', 'prediction']"
   ]
  },
  {
   "cell_type": "code",
   "execution_count": 1250,
   "metadata": {},
   "outputs": [
    {
     "name": "stdout",
     "output_type": "stream",
     "text": [
      "+-----+--------------------+--------------------+----------+\n",
      "|label|       rawPrediction|         probability|prediction|\n",
      "+-----+--------------------+--------------------+----------+\n",
      "|    2|[0.0,0.0,15.67774...|[0.0,0.0,0.783887...|       2.0|\n",
      "|    2|[0.0,0.0,19.94571...|[0.0,0.0,0.997285...|       2.0|\n",
      "|    4|[0.0,0.0,1.207462...|[0.0,0.0,0.060373...|       4.0|\n",
      "|    2|[0.0,0.0,14.70003...|[0.0,0.0,0.735001...|       2.0|\n",
      "|    4|[0.0,0.0,1.126717...|[0.0,0.0,0.056335...|       4.0|\n",
      "+-----+--------------------+--------------------+----------+\n",
      "only showing top 5 rows\n",
      "\n"
     ]
    },
    {
     "data": {
      "text/plain": [
       "None"
      ]
     },
     "metadata": {},
     "output_type": "display_data"
    }
   ],
   "source": [
    "display(predictions.select(select_23).show(5))"
   ]
  },
  {
   "cell_type": "markdown",
   "metadata": {},
   "source": [
    "### Evaluating the model with the area under the receiver operating curve"
   ]
  },
  {
   "cell_type": "code",
   "execution_count": 1251,
   "metadata": {},
   "outputs": [
    {
     "name": "stdout",
     "output_type": "stream",
     "text": [
      "Area under the curve - AUC: 1.0\n"
     ]
    }
   ],
   "source": [
    "# evaluating predictions by building the ratio \n",
    "# of actual values versus predicted values \n",
    "evaluator = BinaryClassificationEvaluator(labelCol='label')\n",
    "auc = evaluator.evaluate(predictions)\n",
    "print(\"Area under the curve - AUC: {}\".format(auc))\n",
    "# an auc of 1 is perfect"
   ]
  },
  {
   "cell_type": "markdown",
   "metadata": {},
   "source": [
    "The BinaryClassificationMetrics (bcm) function takes the predictions evaluates those."
   ]
  },
  {
   "cell_type": "code",
   "execution_count": 1252,
   "metadata": {},
   "outputs": [
    {
     "name": "stdout",
     "output_type": "stream",
     "text": [
      "<class 'pyspark.mllib.evaluation.BinaryClassificationMetrics'>\n"
     ]
    }
   ],
   "source": [
    "bcm = \\\n",
    "BinaryClassificationMetrics(predictions, scoreCol='probability', \n",
    "                            labelCol='label')\n",
    "\n",
    "print(type(bcm))\n"
   ]
  },
  {
   "cell_type": "markdown",
   "metadata": {},
   "source": [
    "Handy Spark also offers function to plot the roc curve.\n",
    "The plots are mirroring the perfect predictions."
   ]
  },
  {
   "cell_type": "code",
   "execution_count": 1253,
   "metadata": {},
   "outputs": [
    {
     "name": "stdout",
     "output_type": "stream",
     "text": [
      "def plot_roc_curve(self, ax=None):\n",
      "    \"\"\"Makes a plot of Receiver Operating Characteristic (ROC) curve.\n",
      "\n",
      "    Parameter\n",
      "    ---------\n",
      "    ax : matplotlib axes object, default None\n",
      "    \"\"\"\n",
      "    metrics = self.getMetricsByThreshold().toPandas()\n",
      "    return roc_curve(metrics.fpr, metrics.recall, self.areaUnderROC, ax)\n",
      "\n"
     ]
    }
   ],
   "source": [
    "# import inspect\n",
    "source_DF = inspect.getsource(bcm.plot_roc_curve)\n",
    "print(source_DF)"
   ]
  },
  {
   "cell_type": "code",
   "execution_count": 1254,
   "metadata": {},
   "outputs": [
    {
     "data": {
      "image/png": "[encoded data removed]",
      "text/plain": [
       "<Figure size 720x360 with 2 Axes>"
      ]
     },
     "metadata": {
      "needs_background": "light"
     },
     "output_type": "display_data"
    }
   ],
   "source": [
    "fig, axs = plt.subplots(1,2,figsize=(10,5))\n",
    "bcm.plot_roc_curve(ax=axs[0])\n",
    "bcm.plot_pr_curve(ax=axs[1])\n",
    "plt.show()"
   ]
  },
  {
   "cell_type": "markdown",
   "metadata": {},
   "source": [
    "Within bcm are the metrics stored.\n",
    "\n"
   ]
  },
  {
   "cell_type": "code",
   "execution_count": 1255,
   "metadata": {},
   "outputs": [
    {
     "data": {
      "text/html": [
       "<div>\n",
       "<style scoped>\n",
       "    .dataframe tbody tr th:only-of-type {\n",
       "        vertical-align: middle;\n",
       "    }\n",
       "\n",
       "    .dataframe tbody tr th {\n",
       "        vertical-align: top;\n",
       "    }\n",
       "\n",
       "    .dataframe thead th {\n",
       "        text-align: right;\n",
       "    }\n",
       "</style>\n",
       "<table border=\"1\" class=\"dataframe\">\n",
       "  <thead>\n",
       "    <tr style=\"text-align: right;\">\n",
       "      <th></th>\n",
       "      <th>threshold</th>\n",
       "      <th>fpr</th>\n",
       "      <th>recall</th>\n",
       "      <th>precision</th>\n",
       "    </tr>\n",
       "  </thead>\n",
       "  <tbody>\n",
       "    <tr>\n",
       "      <td>0</td>\n",
       "      <td>0.0</td>\n",
       "      <td>0.0</td>\n",
       "      <td>1.0</td>\n",
       "      <td>1.0</td>\n",
       "    </tr>\n",
       "    <tr>\n",
       "      <td>1</td>\n",
       "      <td>0.0</td>\n",
       "      <td>1.0</td>\n",
       "      <td>1.0</td>\n",
       "      <td>0.0</td>\n",
       "    </tr>\n",
       "  </tbody>\n",
       "</table>\n",
       "</div>"
      ],
      "text/plain": [
       "   threshold  fpr  recall  precision\n",
       "0        0.0  0.0     1.0        1.0\n",
       "1        0.0  1.0     1.0        0.0"
      ]
     },
     "execution_count": 1255,
     "metadata": {},
     "output_type": "execute_result"
    }
   ],
   "source": [
    "bcm.getMetricsByThreshold().toPandas()"
   ]
  }
 ],
 "metadata": {
  "kernelspec": {
   "display_name": "Python 3",
   "language": "python",
   "name": "python3"
  },
  "language_info": {
   "codemirror_mode": {
    "name": "ipython",
    "version": 3
   },
   "file_extension": ".py",
   "mimetype": "text/x-python",
   "name": "python",
   "nbconvert_exporter": "python",
   "pygments_lexer": "ipython3",
   "version": "3.7.4"
  }
 },
 "nbformat": 4,
 "nbformat_minor": 2
}
